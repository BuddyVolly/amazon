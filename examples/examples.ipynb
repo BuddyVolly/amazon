{
 "cells": [
  {
   "cell_type": "code",
   "execution_count": 1,
   "metadata": {},
   "outputs": [],
   "source": [
    "import numpy as np\n",
    "import pandas as pd\n",
    "from utilities import get_area_ratio, get_area_ratio_paper, get_year_dist"
   ]
  },
  {
   "cell_type": "markdown",
   "metadata": {},
   "source": [
    "### Example 1: Testing implementation of ratio estimator using example data from Stehman (2014)"
   ]
  },
  {
   "cell_type": "code",
   "execution_count": 2,
   "metadata": {},
   "outputs": [],
   "source": [
    "# Data from Stehman 2014\n",
    "\n",
    "stratum = [1,1,1,1,1,1,1,1,1,1,2,2,2,2,2,2,2,2,2,2,3,3,3,3,3,3,3,3,3,3,4,4,4,4,4,4,4,4,4,4]\n",
    "refClass = [1,1,1,1,1,3,2,1,2,3,1,2,2,2,2,2,1,1,2,2,3,3,3,3,3,4,4,2,2,1,4,4,4,4,4,4,4,3,3,2]\n",
    "mapClass = [1,1,1,1,1,1,1,2,2,2,1,2,2,2,2,2,2,2,2,2,2,2,3,3,3,3,3,3,2,2,4,4,4,4,4,4,4,4,4,4]\n",
    "areas = np.array([40000, 30000, 20000, 10000])\n",
    "\n",
    "sample_info = np.vstack([stratum, mapClass, refClass])\n",
    "counts = np.unique(stratum, return_counts=True)[1]\n",
    "classes = np.unique(stratum, return_counts=True)[0]"
   ]
  },
  {
   "cell_type": "code",
   "execution_count": 3,
   "metadata": {},
   "outputs": [
    {
     "name": "stdout",
     "output_type": "stream",
     "text": [
      "Area of class 1: 0    0.35\n",
      "Name: area_prop, dtype: float64\n",
      "Standard error of class 1: 0    0.082248\n",
      "Name: se_prop, dtype: float64\n",
      "Area of class 2: 0    0.34\n",
      "Name: area_prop, dtype: float64\n",
      "Standard error of class 2: 0    0.075853\n",
      "Name: se_prop, dtype: float64\n",
      "Area of class 3: 0    0.2\n",
      "Name: area_prop, dtype: float64\n",
      "Standard error of class 3: 0    0.06428\n",
      "Name: se_prop, dtype: float64\n",
      "Area of class 4: 0    0.11\n",
      "Name: area_prop, dtype: float64\n",
      "Standard error of class 4: 0    0.030722\n",
      "Name: se_prop, dtype: float64\n"
     ]
    }
   ],
   "source": [
    "# Class 1\n",
    "for i in range(4):\n",
    "    _class = i+1\n",
    "    class_df = get_area_ratio_paper(areas, sample_info, counts, _class)\n",
    "    print('Area of class {}: {}'.format(_class, class_df['area_prop']))\n",
    "    print('Standard error of class {}: {}'.format(_class, class_df['se_prop']))\n"
   ]
  },
  {
   "cell_type": "markdown",
   "metadata": {},
   "source": [
    "### Example 2: Estimating area of deforestation for one biennial period\n"
   ]
  },
  {
   "cell_type": "code",
   "execution_count": 10,
   "metadata": {},
   "outputs": [],
   "source": [
    "# Inputs\n",
    "\n",
    "# Map area and weights\n",
    "total_area = 7545502177.858816\n",
    "\n",
    "# Area weights\n",
    "forest = 0.7561\n",
    "non_forest = 0.0729\n",
    "deg_only = 0.0285\n",
    "def_only = 0.0554\n",
    "disturbed = 0.0168\n",
    "regrowth = 0.0051\n",
    "buffer = 0.0651\n",
    "area_weights = [forest, non_forest, deg_only, def_only, disturbed, regrowth, buffer]\n",
    "area_list = total_area * np.array(area_weights)\n",
    "\n",
    "# Sample counts\n",
    "sample_counts = [1999, 200, 298, 298, 100, 99, 199]\n",
    "\n",
    "# Reference data\n",
    "ref_df = pd.read_csv('reference_samples.csv').fillna(0)"
   ]
  },
  {
   "cell_type": "code",
   "execution_count": 11,
   "metadata": {},
   "outputs": [
    {
     "name": "stdout",
     "output_type": "stream",
     "text": [
      "Deforestation in 1996-1997: 35220.0 km^2 (± 6660.0)\n",
      "D/ND in 1996-1997: 36140.0 km^2 (± 7790.0)\n"
     ]
    }
   ],
   "source": [
    "# Get reference and strata codes for the time period of interest\n",
    "# Note this function is designed to return reference inputs for D/ND and deforestation only.\n",
    "_strata, _ref, _map = get_year_dist(1996, 1997, ref_df)\n",
    "\n",
    "sample_info = np.vstack([_strata, _map, _ref])\n",
    "counts = np.unique(_strata, return_counts=True)[1]\n",
    "classes = np.unique(_strata, return_counts=True)[0]\n",
    "\n",
    "# Estimate area and uncertainty for deforestation and D/ND\n",
    "deforestation = get_area_ratio(np.array(area_list), sample_info, np.array(sample_counts), 4)\n",
    "dnd = get_area_ratio(np.array(area_list), sample_info, np.array(sample_counts), 3)\n",
    "\n",
    "print('Deforestation in 1996-1997: {} km^2 (± {})'.format(deforestation.area_km2.round(-1).values[0], \n",
    "                                                          deforestation.se_km2.round(-1).values[0]))\n",
    "print('D/ND in 1996-1997: {} km^2 (± {})'.format(dnd.area_km2.round(-1).values[0], \n",
    "                                                          dnd.se_km2.round(-1).values[0]))"
   ]
  },
  {
   "cell_type": "code",
   "execution_count": null,
   "metadata": {},
   "outputs": [],
   "source": []
  }
 ],
 "metadata": {
  "kernelspec": {
   "display_name": "Python 3",
   "language": "python",
   "name": "python3"
  },
  "language_info": {
   "codemirror_mode": {
    "name": "ipython",
    "version": 3
   },
   "file_extension": ".py",
   "mimetype": "text/x-python",
   "name": "python",
   "nbconvert_exporter": "python",
   "pygments_lexer": "ipython3",
   "version": "3.6.5"
  }
 },
 "nbformat": 4,
 "nbformat_minor": 2
}
